{
 "cells": [
  {
   "cell_type": "code",
   "execution_count": 30,
   "metadata": {},
   "outputs": [
    {
     "data": {
      "application/vnd.jupyter.widget-view+json": {
       "model_id": "00d6b12d9c79482aa7a2bb4b9a928f69",
       "version_major": 2,
       "version_minor": 0
      },
      "text/plain": [
       "interactive(children=(FloatSlider(value=5.0, description='hMontante', max=24.4), FloatSlider(value=3.0, descri…"
      ]
     },
     "metadata": {},
     "output_type": "display_data"
    }
   ],
   "source": [
    "import ipywidgets as wdg\n",
    "import matplotlib.pyplot as plt\n",
    "import numpy as np\n",
    "\n",
    "\n",
    "c = wdg.FloatSlider(min=0, max=30.0, value=24.4, step=0.1)\n",
    "d = wdg.FloatSlider(min=0, max=10.0, value=4, step=0.1)\n",
    "a = wdg.FloatSlider(min=0, max=c.value, value=5, step=0.1)\n",
    "b = wdg.FloatSlider(min=0, max=a.value, value=3, step=0.1)\n",
    "\n",
    "\n",
    "def update_a(*args):\n",
    "    a.max = c.value\n",
    "c.observe(update_a, 'value', )\n",
    "def update_b(*args):\n",
    "    b.max = a.value\n",
    "a.observe(update_b, 'value')\n",
    "def update_c(*args):\n",
    "    c.min = a.value\n",
    "a.observe(update_c, 'value')\n",
    "\n",
    "\n",
    "def printa(hMontante, hJusante,\\\n",
    "           hBarragem, lBarragem):\n",
    "    \n",
    "    dconcreto = 23.6*10**3 #N/m**3\n",
    "    dagua = 997.07 #kg/m**3\n",
    "    g = 9.81 #m/s**2\n",
    "    \n",
    "    barragem = np.array([[0, -lBarragem, -lBarragem, 0], [0, 0, hBarragem, 0]])    \n",
    "    rioMontante = np.array([[-20, -lBarragem, -lBarragem, -20], [0, 0, hMontante, hMontante]])\n",
    "    rioJusante = np.array([[20, 0, - lBarragem*hJusante/hBarragem, 20], \\\n",
    "                           [0, 0, hJusante, hJusante]])\n",
    "    plt.plot(*barragem, 'k')\n",
    "    plt.plot(*rioMontante, 'b')\n",
    "    plt.plot(*rioJusante, 'b')\n",
    "    plt.xlim(-10, 2)\n",
    "    plt.ylim(-5, 32)\n",
    "    \n",
    "    hipotenusa = np.sqrt(hBarragem**2 + lBarragem**2)\n",
    "    \n",
    "    fBarragem = -(dconcreto * hBarragem**2) / 2\n",
    "    rBarragem = -2*lBarragem/3\n",
    "    mBarragem = fBarragem * rBarragem\n",
    "    plt.arrow(rBarragem, 5, 0, -3, width = 0.05) \n",
    "    \n",
    "    fMontante = -(dagua * g * hMontante**2) / 2\n",
    "    rMontante = hMontante/3\n",
    "    mMontante = fMontante * rMontante\n",
    "    plt.arrow(-1.5-lBarragem, rMontante, 0.5, 0, width = 0.1) \n",
    "    \n",
    "    fJusante = ((hBarragem / hipotenusa) * dagua * g * hJusante**2) / 2\n",
    "    rJusante = (hJusante * hipotenusa) / (3 * hBarragem)\n",
    "    mJusante = fJusante * rJusante\n",
    "    plt.arrow(-1.5-lBarragem, rMontante, 0.5, 0, width = 0.1) \n",
    "    \n",
    "    fEmpuxo = (dagua * (hMontante + hJusante) * lBarragem) / 2\n",
    "    rEmpuxo = -lBarragem + lBarragem*(hMontante + 2*hJusante)/(3*(hMontante + hJusante))\n",
    "    mEmpuxo = fEmpuxo * rEmpuxo\n",
    "    plt.arrow(rEmpuxo, -4, 0, 3, width = 0.05) \n",
    "    \n",
    "    momentos = mEmpuxo\n",
    "    print(momentos)\n",
    "    plt.show()\n",
    "    \n",
    "    \n",
    "interactive_plot = wdg.interactive(printa, \\\n",
    "            hMontante=a, hJusante=b, \\\n",
    "            hBarragem=c, lBarragem=d)\n",
    "#output = interactive_plot.children[-1]\n",
    "#output.layout.height = '500px'\n",
    "interactive_plot\n",
    "\n"
   ]
  },
  {
   "cell_type": "code",
   "execution_count": null,
   "metadata": {},
   "outputs": [],
   "source": []
  }
 ],
 "metadata": {
  "kernelspec": {
   "display_name": "Python 3",
   "language": "python",
   "name": "python3"
  },
  "language_info": {
   "codemirror_mode": {
    "name": "ipython",
    "version": 3
   },
   "file_extension": ".py",
   "mimetype": "text/x-python",
   "name": "python",
   "nbconvert_exporter": "python",
   "pygments_lexer": "ipython3",
   "version": "3.8.5"
  }
 },
 "nbformat": 4,
 "nbformat_minor": 4
}
